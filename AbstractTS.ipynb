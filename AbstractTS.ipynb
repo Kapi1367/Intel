{
 "cells": [
  {
   "cell_type": "code",
   "execution_count": 5,
   "id": "63ccb43d-bcc3-48df-a250-c300ff21e582",
   "metadata": {},
   "outputs": [],
   "source": [
    "from transformers import PegasusForConditionalGeneration, PegasusTokenizer\n",
    "import torch"
   ]
  },
  {
   "cell_type": "code",
   "execution_count": 8,
   "id": "35145428-1951-4995-90dc-14cbeac59d0d",
   "metadata": {},
   "outputs": [],
   "source": [
    "torch_device = 'cpu'"
   ]
  },
  {
   "cell_type": "code",
   "execution_count": 9,
   "id": "7d32fb4b-4b8c-4d94-b3bb-a22c6484f195",
   "metadata": {},
   "outputs": [
    {
     "name": "stderr",
     "output_type": "stream",
     "text": [
      "Some weights of PegasusForConditionalGeneration were not initialized from the model checkpoint at google/pegasus-cnn_dailymail and are newly initialized: ['model.decoder.embed_positions.weight', 'model.encoder.embed_positions.weight']\n",
      "You should probably TRAIN this model on a down-stream task to be able to use it for predictions and inference.\n"
     ]
    }
   ],
   "source": [
    "model_name = 'google/pegasus-cnn_dailymail'\n",
    "tokenizer = PegasusTokenizer.from_pretrained(model_name)\n",
    "model = PegasusForConditionalGeneration.from_pretrained(model_name).to(torch_device)"
   ]
  },
  {
   "cell_type": "code",
   "execution_count": 10,
   "id": "2e8bd3bd-551f-46cd-8d30-d003b8badf94",
   "metadata": {},
   "outputs": [
    {
     "name": "stdout",
     "output_type": "stream",
     "text": [
      "The Salt Satyagraha was an act of civil disobedience in colonial India, led by Mahatma Gandhi .<n>Gandhi started this march with 78 of his trusted volunteers .<n>The march spanned 387 kilometres (240 mi), from Sabarmati Ashram to Dandi, which was called Navsari at that time (now in the state of Gujarat)<n>Gandhi was arrested on the midnight of 4–5 May 1930, just days before the planned action at Dharasana .<n>The satyagraha against the salt tax continued for almost a year, ending with Gandhi's release from jail and negotiations with Viceroy Lord Irwin at the Second Round Table Conference .<n>The march was the most significant organised challenge to British authority since the Non-cooperation movement of 1920–22, and directly followed the Purna Swaraj declaration of sovereignty and self-rule by the Indian National Congress on 26 January 1930 .<n>It gained worldwide attention which gave impetus to the Indian independence movement\n"
     ]
    }
   ],
   "source": [
    "src_text = [\n",
    "    \"\"\"The Salt march, also known as the Salt Satyagraha, Dandi March, and the Dandi Satyagraha, was an act of nonviolent civil disobedience in colonial India, led by Mahatma Gandhi. The 24-day march lasted from 12 March 1930 to 6 April 1930 as a direct action campaign of tax resistance and nonviolent protest against the British salt monopoly. Another reason for this march was that the Civil Disobedience Movement needed a strong inauguration that would inspire more people to follow Gandhi's example. Gandhi started this march with 78 of his trusted volunteers. The march spanned 387 kilometres (240 mi), from Sabarmati Ashram to Dandi, which was called Navsari at that time (now in the state of Gujarat). Growing numbers of Indians joined them along the way. When Gandhi broke the British Raj salt laws at 8:30 am on 6 April 1930, it sparked large-scale acts of civil disobedience against the salt laws by millions of Indians.\n",
    "After making the salt by evaporation at Dandi, Gandhi continued southward along the coast, making salt and addressing meetings on the way. The Congress Party planned to stage a satyagraha at the Dharasana Salt Works, 40 km (25 mi) south of Dandi. However, Gandhi was arrested on the midnight of 4–5 May 1930, just days before the planned action at Dharasana. The Dandi March and the ensuing Dharasana Satyagraha drew worldwide attention to the Indian independence movement through extensive newspaper and newsreel coverage. The satyagraha against the salt tax continued for almost a year, ending with Gandhi's release from jail and negotiations with Viceroy Lord Irwin at the Second Round Table Conference. Although over 60,000 Indians were jailed as a result of the Salt Satyagraha, the British did not make immediate major concessions.The Salt Satyagraha campaign was based upon Gandhi's principles of non-violent protest called satyagraha, which he loosely translated as \"truth-force\". Literally, it is formed from the Sanskrit words satya, \"truth\", and agraha, \"insistence\". In early 1920 the Indian National Congress chose satyagraha as their main tactic for winning Indian sovereignty and self-rule from British rule and appointed Gandhi to organise the campaign. Gandhi chose the 1882 British Salt Act as the first target of satyagraha. The Salt March to Dandi, and the beating by the colonial police of hundreds of nonviolent protesters in Dharasana, which received worldwide news coverage, demonstrated the effective use of civil disobedience as a technique for fighting against social and political injustice. The satyagraha teachings of Gandhi and the March to Dandi had a significant influence on American activists Martin Luther King Jr., James Bevel, and others during the Civil Rights Movement for civil rights for African Americans and other minority groups in the 1960s. The march was the most significant organised challenge to British authority since the Non-cooperation movement of 1920–22, and directly followed the Purna Swaraj declaration of sovereignty and self-rule by the Indian National Congress on 26 January 1930 by celebrating Independence Day.[9] It gained worldwide attention which gave impetus to the Indian independence movement and started the nationwide Civil Disobedience Movement which continued until 1934 in Gujarat.\"\"\"\n",
    "]\n",
    "\n",
    "# Tokenizing the input text\n",
    "batch = tokenizer(src_text, truncation=True, padding='longest', return_tensors=\"pt\").to(torch_device)\n",
    "\n",
    "# Generating the summary\n",
    "translated = model.generate(**batch, max_length=200, min_length=100, num_beams=5, length_penalty=2.0,)\n",
    "\n",
    "# Decoding and printing the summary\n",
    "tgt_text = tokenizer.decode(translated[0], skip_special_tokens=True)\n",
    "print(tgt_text)"
   ]
  },
  {
   "cell_type": "code",
   "execution_count": 16,
   "id": "469380b8-206f-4df4-a3a2-04030678cc56",
   "metadata": {},
   "outputs": [
    {
     "name": "stdout",
     "output_type": "stream",
     "text": [
      "At midnight on 31 December 1929, the INC (Indian National Congress) raised the tri-color flag of India on the banks of the Ravi at Lahore .The Indian National Congress publicly issued the Declaration of Sovereignty and Self-rule, or Purna Swaraj, on 26 January 1930 .The declaration included the readiness to withhold taxes, and the statement: We believe that it is the inalienable right of the Indian people, as of any other people, to have freedom and to enjoy the fruits of their toil and have the necessities of life, so that they may have full opportunities for growth.\n"
     ]
    }
   ],
   "source": [
    "src_text = [\n",
    "    \"\"\"\n",
    "    At midnight on 31 December 1929, the INC (Indian National Congress) raised the tri-color flag of India on the banks of the Ravi at Lahore. The Indian National Congress, led by Gandhi and Jawaharlal Nehru, publicly issued the Declaration of Sovereignty and Self-rule, or Purna Swaraj, on 26 January 1930.\n",
    "    (purna, \"complete,\" swa, \"self,\" raj, \"rule,\" so therefore \"complete self-rule\") The declaration included the readiness to withhold taxes, and the statement:\n",
    "We believe that it is the inalienable right of the Indian people, as of any other people, to have freedom and to enjoy the fruits of their toil and have the necessities of life, so that they may have full opportunities for growth. We believe also that if any government deprives a people of these rights and oppresses them the people have a further right to alter it or abolish it. The British government in India has not only deprived the Indian people of their freedom but has based itself on the exploitation of the masses, and has ruined India economically, politically, culturally, and spiritually. We believe, therefore, that India must sever the British connection and attain Purna Swaraj or complete sovereignty and self-rule.\n",
    "The Congress Working Committee gave Gandhi the responsibility for organising the first act of civil disobedience, with Congress itself ready to take charge after Gandhi's expected arrest. Gandhi's plan was to begin civil disobedience with a satyagraha aimed at the British salt tax. The 1882 Salt Act gave the British a monopoly on the collection and manufacture of salt, limiting its handling to government salt depots and levying a salt tax. Violation of the Salt Act was a criminal offence. Even though salt was freely available to those living on the coast (by evaporation of sea water), Indians were forced to buy it from the colonial government.\n",
    "    \"\"\"\n",
    "]\n",
    "\n",
    "# Tokenizing the input text\n",
    "batch = tokenizer(src_text, truncation=True, padding='longest', return_tensors=\"pt\")\n",
    "\n",
    "# Generating the summary\n",
    "translated = model.generate(**batch, max_length=300, min_length=100, num_beams=5, length_penalty=1.0,)\n",
    "\n",
    "# Decoding and printing the summary\n",
    "tgt_text = tokenizer.decode(translated[0], skip_special_tokens=True)\n",
    "\n",
    "# Replacing any unwanted tokens or formatting\n",
    "cleaned_text = tgt_text.replace('<n>', '').strip()  # Clean any <n> tokens if they appear\n",
    "\n",
    "print(cleaned_text)"
   ]
  },
  {
   "cell_type": "code",
   "execution_count": 17,
   "id": "57adab15-cd64-4dd7-aa64-5eaa4399e5b0",
   "metadata": {},
   "outputs": [
    {
     "name": "stderr",
     "output_type": "stream",
     "text": [
      "C:\\Users\\hp\\machine learning folder\\sample_project_1\\env\\Lib\\site-packages\\transformers\\modeling_utils.py:2618: UserWarning: Moving the following attributes in the config to the generation config: {'max_length': 128, 'min_length': 32, 'num_beams': 8, 'length_penalty': 0.8}. You are seeing this warning because you've set generation parameters in the model config, as opposed to in the generation config.\n",
      "  warnings.warn(\n"
     ]
    },
    {
     "name": "stdout",
     "output_type": "stream",
     "text": [
      "Model and tokenizer saved to ./pegasus_model\n"
     ]
    }
   ],
   "source": [
    "save_directory = './pegasus_model'\n",
    "\n",
    "# Save the model\n",
    "model.save_pretrained(save_directory)\n",
    "\n",
    "# Save the tokenizer\n",
    "tokenizer.save_pretrained(save_directory)\n",
    "\n",
    "print(f'Model and tokenizer saved to {save_directory}')"
   ]
  },
  {
   "cell_type": "code",
   "execution_count": null,
   "id": "a140a06c-5434-4987-bbb6-b084ce2e7abd",
   "metadata": {},
   "outputs": [],
   "source": []
  }
 ],
 "metadata": {
  "kernelspec": {
   "display_name": "Python 3 (ipykernel)",
   "language": "python",
   "name": "python3"
  },
  "language_info": {
   "codemirror_mode": {
    "name": "ipython",
    "version": 3
   },
   "file_extension": ".py",
   "mimetype": "text/x-python",
   "name": "python",
   "nbconvert_exporter": "python",
   "pygments_lexer": "ipython3",
   "version": "3.11.4"
  }
 },
 "nbformat": 4,
 "nbformat_minor": 5
}
